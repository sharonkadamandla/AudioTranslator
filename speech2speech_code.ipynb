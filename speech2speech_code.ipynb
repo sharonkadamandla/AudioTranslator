{
 "cells": [
  {
   "cell_type": "markdown",
   "id": "416cb6e6-d4e3-4bf5-913c-1b68391483e1",
   "metadata": {},
   "source": [
    "# Audio Translator \n",
    "\n",
    "Translating any audio into a different language, as a file."
   ]
  },
  {
   "cell_type": "markdown",
   "id": "20df5acd",
   "metadata": {},
   "source": [
    "---\n",
    "## Important Installations & Setup"
   ]
  },
  {
   "cell_type": "code",
   "execution_count": null,
   "id": "1d7fdcbf",
   "metadata": {},
   "outputs": [],
   "source": [
    "# !pip install google-cloud-texttospeech"
   ]
  },
  {
   "cell_type": "code",
   "execution_count": null,
   "id": "3acf9c64",
   "metadata": {},
   "outputs": [],
   "source": [
    "import os\n",
    "\n",
    "os.environ[\"OPENAI_API_KEY\"] = \" \" #add your api key\n",
    "\n",
    "os.environ[\"GOOGLE_APPLICATION_CREDENTIALS\"] = \" \" #add your credentials json file"
   ]
  },
  {
   "cell_type": "markdown",
   "id": "708354e3-fa52-4691-9d10-c6127347555b",
   "metadata": {},
   "source": [
    "---\n",
    "## OpenAI For Transcribing\n"
   ]
  },
  {
   "cell_type": "code",
   "execution_count": null,
   "id": "5628f099",
   "metadata": {},
   "outputs": [],
   "source": [
    "from openai import OpenAI\n",
    "\n",
    "client = OpenAI()\n",
    "\n",
    "def transcribe_file_and_dub(audio_file_path: str):\n",
    "    with open(audio_file_path, \"rb\") as audio_file:\n",
    "        response = client.audio.transcriptions.create(\n",
    "        model=\"whisper-1\",\n",
    "        file=audio_file\n",
    "    )\n",
    "    \n",
    "    text_block = response.text\n",
    "    \n",
    "    print(text_block)\n",
    "\n",
    "    text_block = translate(text_block, language=\"Telugu\")\n",
    "    \n",
    "    # Change the audio name and location based on how you want it to be saved\n",
    "    text_to_speech(text_block, \"/Users/sharon/Desktop/telugu_audio.mp3\")\n",
    "\n"
   ]
  },
  {
   "cell_type": "markdown",
   "id": "a63fc121",
   "metadata": {},
   "source": [
    "---\n",
    "## OpenAI For Translation"
   ]
  },
  {
   "cell_type": "code",
   "execution_count": null,
   "id": "bc837b48-1189-490e-a6b0-43c255c47117",
   "metadata": {},
   "outputs": [],
   "source": [
    "from langchain_openai import ChatOpenAI\n",
    "from langchain_core.runnables import RunnablePassthrough\n",
    "from langchain_core.output_parsers import StrOutputParser\n",
    "from langchain_core.prompts import ChatPromptTemplate\n",
    "\n",
    "translation_template = \"\"\"\n",
    "Translate the following sentence into {language}, return ONLY the translation, nothing else.\n",
    "\n",
    "Sentence: {sentence}\n",
    "\"\"\"\n",
    "\n",
    "output_parser = StrOutputParser()\n",
    "llm = ChatOpenAI(model=\"gpt-5\")\n",
    "translation_prompt = ChatPromptTemplate.from_template(translation_template)\n",
    "\n",
    "translation_chain = (\n",
    "    {\"language\": RunnablePassthrough(), \"sentence\": RunnablePassthrough()} \n",
    "    | translation_prompt\n",
    "    | llm\n",
    "    | output_parser\n",
    ")\n",
    "\n",
    "def translate(sentence, language):\n",
    "    data_input = {\"language\": language, \"sentence\": sentence}\n",
    "    translation = translation_chain.invoke(data_input)\n",
    "    print(translation)\n",
    "    return translation"
   ]
  },
  {
   "cell_type": "markdown",
   "id": "d0ad434a-25c9-475e-bc56-6ecee593e45b",
   "metadata": {},
   "source": [
    "---\n",
    "## Google Cloud For Text to Speech\n",
    "\n",
    "Languages and Voices list -> https://cloud.google.com/text-to-speech/docs/list-voices-and-types"
   ]
  },
  {
   "cell_type": "code",
   "execution_count": 41,
   "id": "69fad30e",
   "metadata": {},
   "outputs": [],
   "source": [
    "from google.cloud import texttospeech\n",
    "\n",
    "# Initialize the client once (outside the function, so it doesn't re-initialize every call)\n",
    "tts_client = texttospeech.TextToSpeechClient()\n",
    "\n",
    "def text_to_speech(text, output_file):\n",
    "    \n",
    "    # Prepare the input text\n",
    "    synthesis_input = texttospeech.SynthesisInput(text=text)\n",
    "\n",
    "    # Choose the voice\n",
    "    voice = texttospeech.VoiceSelectionParams(\n",
    "        language_code=\"te-IN\",\n",
    "        name=\"te-IN-Chirp3-HD-Charon\"\n",
    "    )\n",
    "\n",
    "    # Configure audio output\n",
    "    audio_config = texttospeech.AudioConfig(\n",
    "        audio_encoding=texttospeech.AudioEncoding.MP3,\n",
    "        effects_profile_id=[\"small-bluetooth-speaker-class-device\"],\n",
    "        speaking_rate=1.0,\n",
    "    )\n",
    "\n",
    "    # Call the API\n",
    "    response = tts_client.synthesize_speech(\n",
    "        input=synthesis_input,\n",
    "        voice=voice,\n",
    "        audio_config=audio_config\n",
    "    )\n",
    "\n",
    "    # Save to file\n",
    "    with open(output_file, \"wb\") as out:\n",
    "        out.write(response.audio_content)\n",
    "        print(f'✅ Audio content written to file \"{output_file}\"')\n",
    "\n",
    "\n"
   ]
  },
  {
   "cell_type": "markdown",
   "id": "7a68af17-7eca-40a9-9e27-341232ffb5fe",
   "metadata": {},
   "source": [
    "---\n",
    "## Main Script\n"
   ]
  },
  {
   "cell_type": "code",
   "execution_count": 50,
   "id": "a79283c3-0f5f-48a1-8839-c4cb0bacf11b",
   "metadata": {},
   "outputs": [
    {
     "name": "stdout",
     "output_type": "stream",
     "text": [
      "Hi, this is Sharon.\n",
      "హాయ్, నేను షారన్.\n",
      "✅ Audio content written to file \"/Users/sharon/Desktop/telugu_audio.mp3\"\n"
     ]
    }
   ],
   "source": [
    "#audio_path = \"/Users/sharon/Downloads/acts/acts17(part2).mp3\"  # or .wav/.m4a, etc.\n",
    "\n",
    "audio_file_path = \"/Users/sharon/Desktop/audio.m4a\"\n",
    "\n",
    "transcribe_file_and_dub(audio_file_path)"
   ]
  }
 ],
 "metadata": {
  "kernelspec": {
   "display_name": "base",
   "language": "python",
   "name": "python3"
  },
  "language_info": {
   "codemirror_mode": {
    "name": "ipython",
    "version": 3
   },
   "file_extension": ".py",
   "mimetype": "text/x-python",
   "name": "python",
   "nbconvert_exporter": "python",
   "pygments_lexer": "ipython3",
   "version": "3.12.7"
  }
 },
 "nbformat": 4,
 "nbformat_minor": 5
}
