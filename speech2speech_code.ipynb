{
 "cells": [
  {
   "cell_type": "markdown",
   "id": "416cb6e6-d4e3-4bf5-913c-1b68391483e1",
   "metadata": {},
   "source": [
    "# Real Time Speech to Translated Speech \n",
    "\n",
    "Translating my own voice into a different language, as a file."
   ]
  },
  {
   "cell_type": "markdown",
   "id": "708354e3-fa52-4691-9d10-c6127347555b",
   "metadata": {},
   "source": [
    "---\n",
    "## OpenAI For Translation\n"
   ]
  },
  {
   "cell_type": "code",
   "execution_count": null,
   "id": "e3e966fb",
   "metadata": {},
   "outputs": [],
   "source": [
    "import os\n",
    "os.environ[\"OPENAI_API_KEY\"] = \"Key\" # Add ur key"
   ]
  },
  {
   "cell_type": "code",
   "execution_count": 18,
   "id": "bc837b48-1189-490e-a6b0-43c255c47117",
   "metadata": {},
   "outputs": [],
   "source": [
    "from langchain_openai import ChatOpenAI\n",
    "from langchain_core.runnables import RunnablePassthrough\n",
    "from langchain_core.output_parsers import StrOutputParser\n",
    "from langchain_core.prompts import ChatPromptTemplate\n",
    "\n",
    "translation_template = \"\"\"\n",
    "Translate the following sentence into {language}, return ONLY the translation, nothing else.\n",
    "\n",
    "Sentence: {sentence}\n",
    "\"\"\"\n",
    "\n",
    "output_parser = StrOutputParser()\n",
    "llm = ChatOpenAI(temperature=0.0, model=\"gpt-4.1-mini\")\n",
    "translation_prompt = ChatPromptTemplate.from_template(translation_template)\n",
    "\n",
    "translation_chain = (\n",
    "    {\"language\": RunnablePassthrough(), \"sentence\": RunnablePassthrough()} \n",
    "    | translation_prompt\n",
    "    | llm\n",
    "    | output_parser\n",
    ")\n",
    "\n",
    "def translate(sentence, language=\"Telugu\"):\n",
    "    data_input = {\"language\": language, \"sentence\": sentence}\n",
    "    translation = translation_chain.invoke(data_input)\n",
    "    return translation"
   ]
  },
  {
   "cell_type": "markdown",
   "id": "d0ad434a-25c9-475e-bc56-6ecee593e45b",
   "metadata": {},
   "source": [
    "---\n",
    "## ElevenLabs For Voice Cloning & Voice Synthesis\n",
    "\n",
    "Premade voice model on [ElevenLabs Service](https://elevenlabs.io/app/voice-lab), using Multilingual V2 Model for synthesis\n",
    "\n",
    "There are so many languages thats available. You can create a voice by simply giving a prompt."
   ]
  },
  {
   "cell_type": "code",
   "execution_count": null,
   "id": "9df9a336",
   "metadata": {},
   "outputs": [],
   "source": [
    "# Use this once for downloading required packages to run below code.\n",
    "# !pip install elevenlabs "
   ]
  },
  {
   "cell_type": "code",
   "execution_count": null,
   "id": "73310fc1-ae0e-4943-bb42-f7a4e7e9ec30",
   "metadata": {},
   "outputs": [],
   "source": [
    "# from fileinput import filename\n",
    "from elevenlabs.client import ElevenLabs\n",
    "\n",
    "client = ElevenLabs(api_key=\"Key\") # Add ur own key\n",
    "\n",
    "def gen_dub(text: str, voice_id: str, filename: str ):\n",
    "    print(\"Generating audio…\")\n",
    "    audio = client.text_to_speech.convert(\n",
    "        text=text,\n",
    "        voice_id=voice_id,\n",
    "        model_id=\"eleven_multilingual_v2\",\n",
    "        output_format=\"mp3_44100_128\",\n",
    "    )\n",
    "\n",
    "    with open(filename, \"wb\") as f: \n",
    "        for chunk in audio:\n",
    "            f.write(chunk)\n",
    "\n",
    "    print(f\"Audio saved to {filename}\")\n"
   ]
  },
  {
   "cell_type": "markdown",
   "id": "327f96ae-44fa-4c32-a2d2-8afc6cd1f4ad",
   "metadata": {},
   "source": [
    "---\n",
    "## AssemblyAI for Speech to Text Streaming\n",
    "\n",
    "AssemblyAI handles Streaming STT within their own platform. Inserting the above translation and voice generation functions within this workflow."
   ]
  },
  {
   "cell_type": "code",
   "execution_count": null,
   "id": "8df96be2",
   "metadata": {},
   "outputs": [],
   "source": [
    "# Use this once for downloading required packages to run below code.\n",
    "\n",
    "# !pip install assemblyai\n"
   ]
  },
  {
   "cell_type": "code",
   "execution_count": null,
   "id": "2df7059d-7ecc-4ab7-a205-deb9ed4dd466",
   "metadata": {},
   "outputs": [],
   "source": [
    "import assemblyai as aai\n",
    "\n",
    "aai.settings.api_key = \"Key\" # Replace with ur actual key\n",
    "\n",
    "\n",
    "transcriber = aai.Transcriber()\n",
    "\n",
    "def transcribe_file_and_dub(\n",
    "    audio_filepath: str,\n",
    "    target_language: str,\n",
    "    voice_name: str \n",
    "):\n",
    "    \"\"\"\n",
    "    1) Upload & transcribe the given audio file.\n",
    "    2) Run translation on the transcript.\n",
    "    3) Generate & play the dubbed audio.\n",
    "    \"\"\"\n",
    "    print(f\"Transcribing '{audio_filepath}'…\")\n",
    "    transcript = transcriber.transcribe(audio_filepath)\n",
    "    \n",
    "    if transcript.error:\n",
    "        print(\"Transcription error:\", transcript.error)\n",
    "        return\n",
    "\n",
    "    text = transcript.text\n",
    "    print(\"Transcript:\", text)\n",
    "\n",
    "    print(\"Translating…\")\n",
    "    translation = translate(text, target_language)\n",
    "    print(\"Translation:\", translation)\n",
    "\n",
    "    gen_dub(translation, voice_name, filename=\"dubbed_audio.mp3\")\n"
   ]
  },
  {
   "cell_type": "markdown",
   "id": "7a68af17-7eca-40a9-9e27-341232ffb5fe",
   "metadata": {},
   "source": [
    "---\n",
    "## Main Script\n",
    "\n",
    "(remember to change audio input/output in settings for airpods)"
   ]
  },
  {
   "cell_type": "code",
   "execution_count": null,
   "id": "a79283c3-0f5f-48a1-8839-c4cb0bacf11b",
   "metadata": {},
   "outputs": [],
   "source": [
    "audio_path = \"/Users/sharon/Downloads/acts/acts17(part2).mp3\"  # or .wav/.m4a, etc.\n",
    "\n",
    "transcribe_file_and_dub(audio_path, target_language=\"Telugu\", voice_name=\"M26s8JE0fGtkluZqQKYP\")"
   ]
  }
 ],
 "metadata": {
  "kernelspec": {
   "display_name": "base",
   "language": "python",
   "name": "python3"
  },
  "language_info": {
   "codemirror_mode": {
    "name": "ipython",
    "version": 3
   },
   "file_extension": ".py",
   "mimetype": "text/x-python",
   "name": "python",
   "nbconvert_exporter": "python",
   "pygments_lexer": "ipython3",
   "version": "3.12.7"
  }
 },
 "nbformat": 4,
 "nbformat_minor": 5
}
